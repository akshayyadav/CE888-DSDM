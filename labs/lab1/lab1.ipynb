{
 "cells": [
  {
   "cell_type": "markdown",
   "metadata": {},
   "source": [
    "# CE888: Data Science and Decision Making Lab 1\n"
   ]
  },
  {
   "cell_type": "markdown",
   "metadata": {},
   "source": [
    "Over today's practice you'll learn:\n",
    "* to use JuPyter notebooks to quickly prototype code and show results\n",
    "* the numerical Python library\n",
    "\n",
    "This lab is divided in two parts. In each of them, you will have to fill in the gaps following the instructions given.\n",
    "The prompts for you to write code will look like this:"
   ]
  },
  {
   "cell_type": "code",
   "execution_count": 1,
   "metadata": {
    "collapsed": true
   },
   "outputs": [],
   "source": [
    "#<------------INSERT CODE HERE------------>"
   ]
  },
  {
   "cell_type": "markdown",
   "metadata": {},
   "source": [
    "This might involve more than one line of code from you!\n",
    "\n",
    "Do **not** delete code from the notebook.\n",
    "\n",
    "Let's start!"
   ]
  },
  {
   "cell_type": "markdown",
   "metadata": {},
   "source": [
    "## Part 1\n",
    "\n",
    "In the first part of the lab we're going to check your Python skills and, in particular, we will ask you to create some functions to operate on vectors and matrices.\n",
    "\n"
   ]
  },
  {
   "cell_type": "markdown",
   "metadata": {},
   "source": [
    "### Operations with vectors"
   ]
  },
  {
   "cell_type": "code",
   "execution_count": 5,
   "metadata": {},
   "outputs": [
    {
     "name": "stdout",
     "output_type": "stream",
     "text": [
      "[1, 2, 4, 78, 93]\n",
      "The vector has 5 elements\n"
     ]
    }
   ],
   "source": [
    "# Let's create a vector. We can do this as a Python built-in type: the list\n",
    "vector1 = [1, 2, 4, 78, 93] # we declare the vector as a list of elements\n",
    "\n",
    "print(vector1)\n",
    "print(\"The vector has %d elements\" % len(vector1))"
   ]
  },
  {
   "cell_type": "code",
   "execution_count": 13,
   "metadata": {},
   "outputs": [],
   "source": [
    "# Let's add a number to every element of the vector.\n",
    "## Exercise: create a function that, given a vector and a number,\n",
    "## returns the addition of that number to each element of the vector\n",
    "def vector_plus_num(vector, number):\n",
    "    import numpy\n",
    "    vector_as_array = numpy.array(vector)\n",
    "    vector = vector_as_array + number\n",
    "    return vector"
   ]
  },
  {
   "cell_type": "code",
   "execution_count": 14,
   "metadata": {},
   "outputs": [
    {
     "name": "stdout",
     "output_type": "stream",
     "text": [
      "[ 6  7  9 83 98]\n",
      "[-32 -31 -29  45  60]\n"
     ]
    }
   ],
   "source": [
    "# Let's test your function:\n",
    "print(vector_plus_num(vector1, 5))\n",
    "print(vector_plus_num(vector1, -33))"
   ]
  },
  {
   "cell_type": "markdown",
   "metadata": {},
   "source": [
    "What if we now wanted to mutiply a number and a vector? **Do not do it**, just think about what you'd need!"
   ]
  },
  {
   "cell_type": "markdown",
   "metadata": {},
   "source": [
    "And what if we want to calculate the mean value of your vector?"
   ]
  },
  {
   "cell_type": "code",
   "execution_count": 18,
   "metadata": {
    "collapsed": true
   },
   "outputs": [],
   "source": [
    "## Exercise: create a function that, given a vector,\n",
    "## returns the mean value of its elements.\n",
    "def vector_mean(vector):\n",
    "    import numpy\n",
    "    return numpy.mean(vector)"
   ]
  },
  {
   "cell_type": "code",
   "execution_count": 35,
   "metadata": {},
   "outputs": [],
   "source": [
    "# Now test your function:\n",
    "vector_under_test = [1,2,3,4,5]\n",
    "expected_mean = 3\n",
    "actual_mean = vector_mean(vector_under_test)\n",
    "assert actual_mean == expected_mean, \"Expected mean: {0}, got: {1}\".format(expected_mean, actual_mean)"
   ]
  },
  {
   "cell_type": "markdown",
   "metadata": {},
   "source": [
    "We will now work on operations between pairs of vectors."
   ]
  },
  {
   "cell_type": "code",
   "execution_count": 37,
   "metadata": {},
   "outputs": [],
   "source": [
    "# Now let's create a new vector, called vector2, of the same length as vector1.\n",
    "# We will then look at operations with multiple vectors, \n",
    "# such as adding and subtracting them, and vector multiplications.\n",
    "vector2 = vector_under_test\n",
    "\n",
    "assert len(vector1) == len(vector2), \"The vectors are not of the same length\""
   ]
  },
  {
   "cell_type": "code",
   "execution_count": 65,
   "metadata": {
    "collapsed": true
   },
   "outputs": [],
   "source": [
    "# Create a function that returns new vector of the same length as vector1 and vector2, \n",
    "# for which each element is the sum of the corresponding elements from vector1 and vector2.\n",
    "\n",
    "# Feel free to create a function to do this!\n",
    "\n",
    "def add_two_vectors(vec1, vec2):\n",
    "    import numpy\n",
    "    sumVec = numpy.add(vec1,vec2)\n",
    "    return sumVec"
   ]
  },
  {
   "cell_type": "code",
   "execution_count": 66,
   "metadata": {},
   "outputs": [
    {
     "name": "stdout",
     "output_type": "stream",
     "text": [
      "[ 2  4  7 82 98]\n"
     ]
    },
    {
     "ename": "ValueError",
     "evalue": "operands could not be broadcast together with shapes (5,) (3,) ",
     "output_type": "error",
     "traceback": [
      "\u001b[0;31m---------------------------------------------------------------------------\u001b[0m",
      "\u001b[0;31mValueError\u001b[0m                                Traceback (most recent call last)",
      "\u001b[0;32m<ipython-input-66-531177dafd7e>\u001b[0m in \u001b[0;36m<module>\u001b[0;34m()\u001b[0m\n\u001b[1;32m      1\u001b[0m \u001b[0;31m# Let's test your function:\u001b[0m\u001b[0;34m\u001b[0m\u001b[0;34m\u001b[0m\u001b[0m\n\u001b[1;32m      2\u001b[0m \u001b[0mprint\u001b[0m\u001b[0;34m(\u001b[0m\u001b[0madd_two_vectors\u001b[0m\u001b[0;34m(\u001b[0m\u001b[0mvector1\u001b[0m\u001b[0;34m,\u001b[0m \u001b[0mvector2\u001b[0m\u001b[0;34m)\u001b[0m\u001b[0;34m)\u001b[0m\u001b[0;34m\u001b[0m\u001b[0m\n\u001b[0;32m----> 3\u001b[0;31m \u001b[0mprint\u001b[0m\u001b[0;34m(\u001b[0m\u001b[0madd_two_vectors\u001b[0m\u001b[0;34m(\u001b[0m\u001b[0mvector1\u001b[0m\u001b[0;34m,\u001b[0m \u001b[0;34m[\u001b[0m\u001b[0;36m1\u001b[0m\u001b[0;34m,\u001b[0m \u001b[0;36m2\u001b[0m\u001b[0;34m,\u001b[0m \u001b[0;36m3\u001b[0m\u001b[0;34m]\u001b[0m\u001b[0;34m)\u001b[0m\u001b[0;34m)\u001b[0m\u001b[0;34m\u001b[0m\u001b[0m\n\u001b[0m\u001b[1;32m      4\u001b[0m \u001b[0;31m# If the second print resulted in an error, don't worry about it for now!\u001b[0m\u001b[0;34m\u001b[0m\u001b[0;34m\u001b[0m\u001b[0m\n",
      "\u001b[0;32m<ipython-input-65-87a33dba5d57>\u001b[0m in \u001b[0;36madd_two_vectors\u001b[0;34m(vec1, vec2)\u001b[0m\n\u001b[1;32m      6\u001b[0m \u001b[0;32mdef\u001b[0m \u001b[0madd_two_vectors\u001b[0m\u001b[0;34m(\u001b[0m\u001b[0mvec1\u001b[0m\u001b[0;34m,\u001b[0m \u001b[0mvec2\u001b[0m\u001b[0;34m)\u001b[0m\u001b[0;34m:\u001b[0m\u001b[0;34m\u001b[0m\u001b[0m\n\u001b[1;32m      7\u001b[0m     \u001b[0;32mimport\u001b[0m \u001b[0mnumpy\u001b[0m\u001b[0;34m\u001b[0m\u001b[0m\n\u001b[0;32m----> 8\u001b[0;31m     \u001b[0msumVec\u001b[0m \u001b[0;34m=\u001b[0m \u001b[0mnumpy\u001b[0m\u001b[0;34m.\u001b[0m\u001b[0madd\u001b[0m\u001b[0;34m(\u001b[0m\u001b[0mvec1\u001b[0m\u001b[0;34m,\u001b[0m\u001b[0mvec2\u001b[0m\u001b[0;34m)\u001b[0m\u001b[0;34m\u001b[0m\u001b[0m\n\u001b[0m\u001b[1;32m      9\u001b[0m     \u001b[0;32mreturn\u001b[0m \u001b[0msumVec\u001b[0m\u001b[0;34m\u001b[0m\u001b[0m\n",
      "\u001b[0;31mValueError\u001b[0m: operands could not be broadcast together with shapes (5,) (3,) "
     ]
    }
   ],
   "source": [
    "# Let's test your function:\n",
    "print(add_two_vectors(vector1, vector2))\n",
    "print(add_two_vectors(vector1, [1, 2, 3]))\n",
    "# If the second print resulted in an error, don't worry about it for now!"
   ]
  },
  {
   "cell_type": "markdown",
   "metadata": {},
   "source": [
    "How about the multiplication of vectors?\n",
    "There are two types of vector multiplications:\n",
    "* The dot product (or scalar product) takes two vectors and returns a scalar.\n",
    "* The cross product (or vector product) takes two vectors and returns another vector."
   ]
  },
  {
   "cell_type": "markdown",
   "metadata": {},
   "source": [
    "Now let's create a function that returns the scalar product of two vectors.\n",
    "\n",
    "This can be done by multiplying pairs of elements and adding the result:\n",
    "\n",
    "A = [A1, A2, A3, ..., An]\n",
    "\n",
    "B = [B1, B2, B3, ..., Bn]\n",
    "\n",
    "A · B = A1·B1 + A2·B2 + ... An·Bn"
   ]
  },
  {
   "cell_type": "code",
   "execution_count": 67,
   "metadata": {
    "collapsed": true
   },
   "outputs": [],
   "source": [
    "def scalar_product(v1, v2):\n",
    "    import numpy\n",
    "    scalarProduct=numpy.dot(v1,v2)\n",
    "    return scalarProduct"
   ]
  },
  {
   "cell_type": "code",
   "execution_count": 68,
   "metadata": {},
   "outputs": [
    {
     "name": "stdout",
     "output_type": "stream",
     "text": [
      "794\n"
     ]
    }
   ],
   "source": [
    "# Test your function\n",
    "\n",
    "print(scalar_product(vector1, vector_under_test))\n",
    "v1 = [1,1]\n",
    "v2 = [1,1]\n",
    "expected_dot_product = 2\n",
    "actual_dot_product = scalar_product(v1, v2)\n",
    "assert actual_dot_product == expected_dot_product, \"Expected mean: {0}, got: {1}\".format(expected_dot_product, actual_dot_product)"
   ]
  },
  {
   "cell_type": "markdown",
   "metadata": {},
   "source": [
    "### Operations with matrices\n",
    "\n",
    "Again, there are multiple things we can do with matrices. For example, adding/subtracting/multiplying a number to each element of a matrix and matrix multiplication.\n",
    "\n",
    "We're going to attempt the last one only."
   ]
  },
  {
   "cell_type": "code",
   "execution_count": 69,
   "metadata": {
    "collapsed": true
   },
   "outputs": [],
   "source": [
    "# Create a function that receives two matrices as input and returns the matrix multiplication of the two\n",
    "# If you don't know how to multiply two matrices, check:\n",
    "# https://en.wikipedia.org/wiki/Matrix_multiplication#Definition\n",
    "\n",
    "def matrix_multiplication(matrix1, matrix2):\n",
    "    import numpy\n",
    "    multipl_result = numpy.matmul(matrix1, matrix2)\n",
    "    return multipl_result"
   ]
  },
  {
   "cell_type": "code",
   "execution_count": 70,
   "metadata": {
    "collapsed": true
   },
   "outputs": [],
   "source": [
    "# And let's test your function:\n",
    "# NOTE: some of the tests below will give errors. Don't worry about them!\n",
    "matrixA = [[1, 2, 3], [1, 2, 3]]\n",
    "matrixB = [[5, 6, 7], [5, 6, 7], [5, 6, 7]]\n",
    "matrixC = [[8, 9], [8, 9], [8, 9], [8, 9]]\n",
    "matrixD = [[10, 11], [10, 11], [10, 11]]"
   ]
  },
  {
   "cell_type": "code",
   "execution_count": 71,
   "metadata": {},
   "outputs": [
    {
     "name": "stdout",
     "output_type": "stream",
     "text": [
      "[[30 36 42]\n",
      " [30 36 42]]\n"
     ]
    }
   ],
   "source": [
    "print(matrix_multiplication(matrixA, matrixB))"
   ]
  },
  {
   "cell_type": "code",
   "execution_count": 74,
   "metadata": {},
   "outputs": [
    {
     "ename": "ValueError",
     "evalue": "shapes (2,3) and (4,2) not aligned: 3 (dim 1) != 4 (dim 0)",
     "output_type": "error",
     "traceback": [
      "\u001b[0;31m---------------------------------------------------------------------------\u001b[0m",
      "\u001b[0;31mValueError\u001b[0m                                Traceback (most recent call last)",
      "\u001b[0;32m<ipython-input-74-9eb73f74ddd2>\u001b[0m in \u001b[0;36m<module>\u001b[0;34m()\u001b[0m\n\u001b[0;32m----> 1\u001b[0;31m \u001b[0mprint\u001b[0m\u001b[0;34m(\u001b[0m\u001b[0mmatrix_multiplication\u001b[0m\u001b[0;34m(\u001b[0m\u001b[0mmatrixA\u001b[0m\u001b[0;34m,\u001b[0m \u001b[0mmatrixC\u001b[0m\u001b[0;34m)\u001b[0m\u001b[0;34m)\u001b[0m\u001b[0;34m\u001b[0m\u001b[0m\n\u001b[0m",
      "\u001b[0;32m<ipython-input-69-ea5c1c2044e9>\u001b[0m in \u001b[0;36mmatrix_multiplication\u001b[0;34m(matrix1, matrix2)\u001b[0m\n\u001b[1;32m      5\u001b[0m \u001b[0;32mdef\u001b[0m \u001b[0mmatrix_multiplication\u001b[0m\u001b[0;34m(\u001b[0m\u001b[0mmatrix1\u001b[0m\u001b[0;34m,\u001b[0m \u001b[0mmatrix2\u001b[0m\u001b[0;34m)\u001b[0m\u001b[0;34m:\u001b[0m\u001b[0;34m\u001b[0m\u001b[0m\n\u001b[1;32m      6\u001b[0m     \u001b[0;32mimport\u001b[0m \u001b[0mnumpy\u001b[0m\u001b[0;34m\u001b[0m\u001b[0m\n\u001b[0;32m----> 7\u001b[0;31m     \u001b[0mmultipl_result\u001b[0m \u001b[0;34m=\u001b[0m \u001b[0mnumpy\u001b[0m\u001b[0;34m.\u001b[0m\u001b[0mmatmul\u001b[0m\u001b[0;34m(\u001b[0m\u001b[0mmatrix1\u001b[0m\u001b[0;34m,\u001b[0m \u001b[0mmatrix2\u001b[0m\u001b[0;34m)\u001b[0m\u001b[0;34m\u001b[0m\u001b[0m\n\u001b[0m\u001b[1;32m      8\u001b[0m     \u001b[0;32mreturn\u001b[0m \u001b[0mmultipl_result\u001b[0m\u001b[0;34m\u001b[0m\u001b[0m\n",
      "\u001b[0;31mValueError\u001b[0m: shapes (2,3) and (4,2) not aligned: 3 (dim 1) != 4 (dim 0)"
     ]
    }
   ],
   "source": [
    "print(matrix_multiplication(matrixA, matrixC))"
   ]
  },
  {
   "cell_type": "code",
   "execution_count": 75,
   "metadata": {},
   "outputs": [
    {
     "name": "stdout",
     "output_type": "stream",
     "text": [
      "[[21 42 63]\n",
      " [21 42 63]\n",
      " [21 42 63]]\n"
     ]
    }
   ],
   "source": [
    "print(matrix_multiplication(matrixD, matrixA))"
   ]
  },
  {
   "cell_type": "markdown",
   "metadata": {},
   "source": [
    "Hopefully this has convinced you that operating with vectors and matrices like this is not the best way.\n",
    "Now we will turn to the second part of this lab, in which you will be introduced to the numerical Python library, *numpy*."
   ]
  },
  {
   "cell_type": "markdown",
   "metadata": {},
   "source": [
    "## Part 2: Numpy\n"
   ]
  },
  {
   "cell_type": "markdown",
   "metadata": {},
   "source": [
    "Numpy has a built-in type called the *ndarray*. "
   ]
  },
  {
   "cell_type": "code",
   "execution_count": 76,
   "metadata": {
    "collapsed": true
   },
   "outputs": [],
   "source": [
    "import numpy as np # Importing convention for Numpy"
   ]
  },
  {
   "cell_type": "markdown",
   "metadata": {},
   "source": [
    "#### Creating and manipulating arrays"
   ]
  },
  {
   "cell_type": "code",
   "execution_count": 77,
   "metadata": {},
   "outputs": [
    {
     "name": "stdout",
     "output_type": "stream",
     "text": [
      "[ 1.  2.  3.]\n",
      "float32\n",
      "[ 1.+2.j  3.-4.j]\n",
      "complex64\n",
      "[False  True  True]\n",
      "bool\n",
      "[[1 2 3]\n",
      " [1 2 3]]\n",
      "int64\n",
      "(2, 3)\n",
      "[1 2 3 4 5]\n",
      "int64\n",
      "(5,)\n"
     ]
    }
   ],
   "source": [
    "# Create arrays with a specified data type\n",
    "\n",
    "arr = np.array([1, 2, 3], dtype=np.float32)\n",
    "print(arr)\n",
    "print(arr.dtype)\n",
    "\n",
    "arr = np.array([1+2j, 3-4j], dtype=np.complex64)  # an array of complex numbers\n",
    "print(arr)\n",
    "print(arr.dtype)\n",
    "\n",
    "arr = np.array([0, 1, 1], dtype=np.bool)  # an array of True/False values\n",
    "print(arr)\n",
    "print(arr.dtype)\n",
    "\n",
    "# We can also create arrays from the vectors and matrices we had before.\n",
    "arr = np.array(matrixA)\n",
    "print(arr)\n",
    "print(arr.dtype)\n",
    "print(arr.shape)\n",
    "\n",
    "arr = np.array(vector2)\n",
    "print(arr)\n",
    "print(arr.dtype)\n",
    "print(arr.shape)\n"
   ]
  },
  {
   "cell_type": "code",
   "execution_count": 78,
   "metadata": {},
   "outputs": [
    {
     "name": "stdout",
     "output_type": "stream",
     "text": [
      "[0 1 2 3 4 5 6 7 8 9]\n",
      "shape: (10,)\n",
      "dtype: int64\n",
      "dim: 1\n",
      "itemsize: 8\n"
     ]
    }
   ],
   "source": [
    "arr_range2 = np.arange(10)\n",
    "print(arr_range2)\n",
    "\n",
    "# Retrieving information on the array\n",
    "print(\"shape:\", arr_range2.shape)\n",
    "print(\"dtype:\", arr_range2.dtype)\n",
    "print(\"dim:\", arr_range2.ndim)\n",
    "print(\"itemsize:\", arr_range2.itemsize)"
   ]
  },
  {
   "cell_type": "code",
   "execution_count": 80,
   "metadata": {},
   "outputs": [
    {
     "name": "stdout",
     "output_type": "stream",
     "text": [
      "[ 0  5 10 15 20 25 30 35 40 45 50 55 60 65 70 75 80 85 90 95]\n",
      "[  0.           0.52631579   1.05263158   1.57894737   2.10526316\n",
      "   2.63157895   3.15789474   3.68421053   4.21052632   4.73684211\n",
      "   5.26315789   5.78947368   6.31578947   6.84210526   7.36842105\n",
      "   7.89473684   8.42105263   8.94736842   9.47368421  10.        ]\n"
     ]
    }
   ],
   "source": [
    "# We can use the np.arange function to create a range of values:\n",
    "arr = np.arange(0, 100, 5) #np.arange(start, stop, pace)\n",
    "print(arr)\n",
    "# Note: is the last value (100) included?\n",
    "\n",
    "# Similarly, we can use np.linspace:\n",
    "# np.linspace(start, stop, num_of_elements, endpoint=True) \n",
    "arr = np.linspace(0, 10, 20)\n",
    "print(arr)\n",
    "# Note: is the last value (10) included now?"
   ]
  },
  {
   "cell_type": "code",
   "execution_count": 81,
   "metadata": {},
   "outputs": [
    {
     "name": "stdout",
     "output_type": "stream",
     "text": [
      "[[ 1.5  2.   3. ]\n",
      " [ 4.   5.   6. ]]\n",
      "(2, 3)\n"
     ]
    }
   ],
   "source": [
    "arr_2d = np.array([(1.5, 2, 3), (4, 5, 6)]) # creating an array from a list of tuples\n",
    "print(arr_2d)\n",
    "print(arr_2d.shape)"
   ]
  },
  {
   "cell_type": "code",
   "execution_count": 82,
   "metadata": {},
   "outputs": [
    {
     "name": "stdout",
     "output_type": "stream",
     "text": [
      "arr_2d[0,0] : 1.5\n",
      "arr_2d[0,:] :  [ 1.5  2.   3. ]\n",
      "arr_2d[:,0] : [ 1.5  4. ]\n",
      "[ 3.  4.  5.  6.]\n"
     ]
    }
   ],
   "source": [
    "# Slicing (i.e., accessing specific elements of the array)\n",
    "\n",
    "print(\"arr_2d[0,0] :\", arr_2d[0, 0])\n",
    "print(\"arr_2d[0,:] : \", arr_2d[0, :])\n",
    "print(\"arr_2d[:,0] :\", arr_2d[:, 0])\n",
    "\n",
    "print(arr_2d[arr_2d > 2])"
   ]
  },
  {
   "cell_type": "code",
   "execution_count": 86,
   "metadata": {},
   "outputs": [
    {
     "name": "stdout",
     "output_type": "stream",
     "text": [
      "[[ 0.  0.  0.  0.  0.  0.  0.  0.  0.  0.]\n",
      " [ 0.  0.  0.  0.  0.  0.  0.  0.  0.  0.]\n",
      " [ 0.  0.  0.  0.  0.  0.  0.  0.  0.  0.]\n",
      " [ 0.  0.  0.  0.  0.  0.  0.  0.  0.  0.]\n",
      " [ 0.  0.  0.  0.  0.  0.  0.  0.  0.  0.]\n",
      " [ 0.  0.  0.  0.  0.  0.  0.  0.  0.  0.]\n",
      " [ 0.  0.  0.  0.  0.  0.  0.  0.  0.  0.]\n",
      " [ 0.  0.  0.  0.  0.  0.  0.  0.  0.  0.]\n",
      " [ 0.  0.  0.  0.  0.  0.  0.  0.  0.  0.]\n",
      " [ 0.  0.  0.  0.  0.  0.  0.  0.  0.  0.]]\n",
      "zeros.shape: (10, 10)\n",
      "[[ 1.  1.  1.  1.]\n",
      " [ 1.  1.  1.  1.]\n",
      " [ 1.  1.  1.  1.]\n",
      " [ 1.  1.  1.  1.]]\n",
      "ones.shape: (4, 4)\n",
      "[[ 1.  1.  1.  1.  1.  1.  1.  1.]\n",
      " [ 1.  1.  1.  1.  1.  1.  1.  1.]]\n",
      "ones.shape: (4, 4)\n"
     ]
    }
   ],
   "source": [
    "# Other types of arrays\n",
    "\n",
    "zeros = np.zeros((10, 10))\n",
    "print(zeros)\n",
    "print(\"zeros.shape:\", zeros.shape)\n",
    "\n",
    "ones = np.ones((4, 4))\n",
    "print(ones)\n",
    "print(\"ones.shape:\", ones.shape)\n",
    "\n",
    "print(ones.reshape(2, 8))\n",
    "print(\"ones.shape:\", ones.shape)"
   ]
  },
  {
   "cell_type": "code",
   "execution_count": 98,
   "metadata": {},
   "outputs": [
    {
     "name": "stdout",
     "output_type": "stream",
     "text": [
      "randn.shape: (1, 1000)\n",
      "[[-0.94551001  1.1351361  -0.32535524 -0.29360245 -1.15758819  0.53320669\n",
      "   0.79439101  0.95571579 -2.39422958 -0.62511092]]\n"
     ]
    }
   ],
   "source": [
    "# We can also use numpy to generate random values.\n",
    "randn = np.random.randn(1, 1000)\n",
    "print(\"randn.shape:\", randn.shape)\n",
    "\n",
    "# print the first 10 elements of randn. What happens if you re-run this code?\n",
    "randn_first_ten = randn[0:1,0:10]\n",
    "print(randn_first_ten)"
   ]
  },
  {
   "cell_type": "code",
   "execution_count": 102,
   "metadata": {},
   "outputs": [
    {
     "name": "stdout",
     "output_type": "stream",
     "text": [
      "[[ 0.66698806  0.02581308]\n",
      " [-0.77761941  0.94863382]\n",
      " [ 0.70167179 -1.05108156]]\n"
     ]
    }
   ],
   "source": [
    "np.random.seed(23)\n",
    "\n",
    "# Generate a new array of random numbers, this time of shape (3, 2) and print it.\n",
    "# What happens when you re-run the code now?\n",
    "# TIP: you might want to save the result to compare the previous and the new one\n",
    "\n",
    "random_numbers = np.random.randn(3, 2)\n",
    "print(random_numbers)\n",
    "\n",
    "# Think: what does np.seed() do? (Use Google if you don't know!)"
   ]
  },
  {
   "cell_type": "markdown",
   "metadata": {},
   "source": [
    "#### Combine arrays"
   ]
  },
  {
   "cell_type": "code",
   "execution_count": 114,
   "metadata": {},
   "outputs": [
    {
     "name": "stdout",
     "output_type": "stream",
     "text": [
      "arr1:\n",
      " [[1 2 3 4]\n",
      " [1 2 3 4]]\n",
      "arr1.shape: (2, 4)\n",
      "\n",
      "arr2:\n",
      " [[5 6 7 8]\n",
      " [5 6 7 8]]\n",
      "arr2.shape: (2, 4)\n",
      "\n",
      "cat_along_row:\n",
      " [[1 2 3 4]\n",
      " [1 2 3 4]\n",
      " [5 6 7 8]\n",
      " [5 6 7 8]]\n",
      "cat_along_row.shape: (4, 4)\n",
      "\n",
      "cat_along_column:\n",
      " [[1 2 3 4 5 6 7 8]\n",
      " [1 2 3 4 5 6 7 8]]\n",
      "cat_along_column.shape: (2, 8)\n",
      "\n",
      "cat_vertically:\n",
      " [[1 2 3 4]\n",
      " [1 2 3 4]\n",
      " [5 6 7 8]\n",
      " [5 6 7 8]]\n",
      "cat_vertically.shape: (4, 4)\n",
      "\n",
      "cat_horizontally:\n",
      " [[1 2 3 4 5 6 7 8]\n",
      " [1 2 3 4 5 6 7 8]]\n",
      "cat_horizontally.shape: (2, 8)\n"
     ]
    }
   ],
   "source": [
    "arr1 = np.array([[1, 2, 3, 4], [1, 2, 3, 4]])\n",
    "arr2 = np.array([[5, 6, 7, 8], [5, 6, 7 , 8]])\n",
    "\n",
    "# Print the shapes of arr1 and arr2 and cat after each of the types of concatenations.\n",
    "# Concatenating arrays is a very common operation. Make sure you understand it!\n",
    "# TIP: it might help you to print the actual cat array after each type of concatenation too\n",
    "print(\"arr1:\\n\", arr1)\n",
    "print(\"arr1.shape:\", arr1.shape)\n",
    "print(\"\\narr2:\\n\", arr2)\n",
    "print(\"arr2.shape:\", arr2.shape)\n",
    "\n",
    "\n",
    "# concatenate along the row\n",
    "cat_along_row = np.concatenate((arr1, arr2), axis=0)\n",
    "print(\"\\ncat_along_row:\\n\", cat_along_row)\n",
    "print(\"cat_along_row.shape:\", cat_along_row.shape)\n",
    "\n",
    "\n",
    "# concatenate along the column\n",
    "cat_along_column = np.concatenate((arr1, arr2), axis=1)    \n",
    "print(\"\\ncat_along_column:\\n\", cat_along_column)\n",
    "print(\"cat_along_column.shape:\", cat_along_column.shape)\n",
    "\n",
    "# stack arrays vertically\n",
    "cat_vertically = np.vstack((arr1, arr2))\n",
    "print(\"\\ncat_vertically:\\n\", cat_vertically)\n",
    "print(\"cat_vertically.shape:\", cat_vertically.shape)\n",
    "\n",
    "# stack arrays horizontally\n",
    "cat_horizontally = np.hstack((arr1, arr2))\n",
    "print(\"\\ncat_horizontally:\\n\", cat_horizontally)\n",
    "print(\"cat_horizontally.shape:\", cat_horizontally.shape)\n",
    "\n",
    "np.testing.assert_array_equal(cat_along_row, cat_vertically)\n",
    "np.testing.assert_array_equal(cat_along_column, cat_horizontally)"
   ]
  },
  {
   "cell_type": "markdown",
   "metadata": {},
   "source": [
    "#### Operations with arrays"
   ]
  },
  {
   "cell_type": "code",
   "execution_count": 136,
   "metadata": {
    "collapsed": true
   },
   "outputs": [],
   "source": [
    "#Let's create a couple of vectors using numpy\n",
    "v1 = np.array([20, 30, 40, 50])\n",
    "v2 = np.arange(4)\n",
    "\n",
    "#And a couple of matrices\n",
    "mat1 = np.array([[1, 2, 3, 4], [1, 2, 3, 4]])\n",
    "mat2 = mat1.T # this is the transpose of mat1"
   ]
  },
  {
   "cell_type": "code",
   "execution_count": 137,
   "metadata": {},
   "outputs": [
    {
     "name": "stdout",
     "output_type": "stream",
     "text": [
      "[25 35 45 55]\n",
      "[25 35 45 55]\n",
      "[[6 7 8 9]\n",
      " [6 7 8 9]]\n",
      "[[6 6]\n",
      " [7 7]\n",
      " [8 8]\n",
      " [9 9]]\n",
      "[[2368 2369 2370 2371]\n",
      " [2368 2369 2370 2371]]\n"
     ]
    }
   ],
   "source": [
    "# Add a number to an array of 1-D (i.e., a vector)\n",
    "print(5 + v1)\n",
    "# Compare the line above to your function vector_plus_num(vector, number) from Part 1.\n",
    "print(vector_plus_num(v1, 5))\n",
    "\n",
    "# Does your function work with matrices?\n",
    "print(vector_plus_num(mat1, 5))\n",
    "print(vector_plus_num(mat2, 5))\n",
    "\n",
    "\n",
    "# How do you add a number to a np.array object? Try adding 2367 to mat1\n",
    "\n",
    "print(mat1 + 2367)\n"
   ]
  },
  {
   "cell_type": "code",
   "execution_count": 125,
   "metadata": {},
   "outputs": [
    {
     "name": "stdout",
     "output_type": "stream",
     "text": [
      "Adding two vectors [20 31 42 53]\n",
      "Subtracting two vectors [20 29 38 47]\n",
      "Sqrt v2: [ 0.          1.          1.41421356  1.73205081]\n",
      "Log v1: [ 2.99573227  3.40119738  3.68887945  3.91202301]\n",
      "Log v2: [ 2.99573227  3.40119738  3.68887945  3.91202301]\n"
     ]
    }
   ],
   "source": [
    "# Let's try to add and subtract vectors now:\n",
    "print(\"Adding two vectors\", v1 + v2)\n",
    "print(\"Subtracting two vectors\", v1 - v2)\n",
    "\n",
    "# What happens if you try to add two vectors of different length?\n",
    "\n",
    "\n",
    "# Square root of each elemnt of v2:\n",
    "print(\"Sqrt v2:\", np.sqrt(v2))\n",
    "\n",
    "# Calculate the logarithm of each element of v1\n",
    "# TIP: check if you can do this using some numpy function!\n",
    "\n",
    "print(\"Log v1:\", np.log(v1))\n",
    "print(\"Log v2:\", np.log(v1))\n"
   ]
  },
  {
   "cell_type": "markdown",
   "metadata": {},
   "source": [
    "### Multiplication of vectors\n",
    "\n",
    "There are a number of functions in numpy that you can use to multiply vectors and matrices.\n",
    "\n",
    "Scalar product of two vectors: np.dot(vector1, vector2)\n",
    "\n",
    "Vector product of two vectors: np.cross(x, y)"
   ]
  },
  {
   "cell_type": "code",
   "execution_count": 134,
   "metadata": {},
   "outputs": [
    {
     "name": "stdout",
     "output_type": "stream",
     "text": [
      "v1.v2: 260\n",
      "5.327800045051845e-05\n",
      "3.903899960278068e-05\n"
     ]
    }
   ],
   "source": [
    "# Calculate the scalar product of v1 and v2 using your function from part 1 and the numpy function.\n",
    "v1dotv2=np.dot(v1,v2)\n",
    "print(\"v1.v2:\", v1dotv2)\n",
    "\n",
    "\n",
    "# Check if the result is the same using your function from Part 1\n",
    "\n",
    "np.testing.assert_array_equal(v1dotv2,scalar_product(v1, v2))\n",
    "\n",
    "v3 = np.random.randn(4000)\n",
    "v4 = np.random.randn(4000)\n",
    "# Calculate the scalar product of v3 and v4 using your function from part 1 and the numpy function.\n",
    "# Compare the time it takes to execute each of them.\n",
    "# HINT: https://stackoverflow.com/questions/7370801/measure-time-elapsed-in-python\n",
    "from timeit import default_timer as timer\n",
    "start = timer()\n",
    "scalar_product(v1, v2)\n",
    "end = timer()\n",
    "print(end - start)\n",
    "\n",
    "start = timer()\n",
    "np.dot(v1,v2)\n",
    "end = timer()\n",
    "print(end - start)\n"
   ]
  },
  {
   "cell_type": "code",
   "execution_count": 143,
   "metadata": {},
   "outputs": [
    {
     "name": "stdout",
     "output_type": "stream",
     "text": [
      "Cross product of v1 and v2 not possible as for cross products dimensions needed are 2 or 3\n",
      "v1.shape: (4,)\n",
      "v2.shape: (4,)\n",
      "Cross product of 1st 3 elements of v1 and v2:  [ 20 -40  20]\n"
     ]
    }
   ],
   "source": [
    "# Calculate the vector product of v1 and v2 using the numpy function.\n",
    "\n",
    "print(\"Cross product of v1 and v2 not possible as for cross products dimensions needed are 2 or 3\")\n",
    "print(\"v1.shape:\", v1.shape)\n",
    "print(\"v2.shape:\", v2.shape)\n",
    "\n",
    "v1xv2=np.cross(v1[0:3],v2[0:3])\n",
    "print(\"Cross product of 1st 3 elements of v1 and v2: \", v1xv2)\n"
   ]
  },
  {
   "cell_type": "markdown",
   "metadata": {},
   "source": [
    "### Matrix multiplication\n",
    "\n",
    "This can be done on numpy using: np.matmul(a, b)"
   ]
  },
  {
   "cell_type": "code",
   "execution_count": 149,
   "metadata": {},
   "outputs": [
    {
     "name": "stdout",
     "output_type": "stream",
     "text": [
      "mat1 * mat2:\n",
      " [[30 30]\n",
      " [30 30]]\n",
      "[[30 30]\n",
      " [30 30]]\n",
      "4.654499934986234e-05\n",
      "3.890900006808806e-05\n"
     ]
    }
   ],
   "source": [
    "# Check the result of multiplying mat1 and mat2 using the numpy function and the one you created in part 1.\n",
    "# Check the execution time for each of them. Which one is faster? \n",
    "\n",
    "print(\"mat1 * mat2:\\n\", np.matmul(mat1, mat2))\n",
    "print(matrix_multiplication(mat1, mat2))\n",
    "\n",
    "# Is it the same result?\n",
    "start = timer()\n",
    "matrix_multiplication(mat1, mat2)\n",
    "end = timer()\n",
    "print(end - start)\n",
    "\n",
    "start = timer()\n",
    "np.matmul(mat1, mat2)\n",
    "end = timer()\n",
    "print(end - start)"
   ]
  },
  {
   "cell_type": "markdown",
   "metadata": {},
   "source": [
    "**Plotting a function**"
   ]
  },
  {
   "cell_type": "code",
   "execution_count": 152,
   "metadata": {},
   "outputs": [],
   "source": [
    "import matplotlib.pyplot as plt"
   ]
  },
  {
   "cell_type": "code",
   "execution_count": 159,
   "metadata": {},
   "outputs": [
    {
     "data": {
      "text/plain": [
       "<matplotlib.figure.Figure at 0x7f39bd292358>"
      ]
     },
     "metadata": {},
     "output_type": "display_data"
    },
    {
     "data": {
      "text/plain": [
       "<matplotlib.figure.Figure at 0x7f39bd2a4470>"
      ]
     },
     "metadata": {},
     "output_type": "display_data"
    },
    {
     "data": {
      "text/plain": [
       "<matplotlib.figure.Figure at 0x7f39bd2ad7f0>"
      ]
     },
     "metadata": {},
     "output_type": "display_data"
    },
    {
     "data": {
      "image/png": "[encoded data removed]",
      "text/plain": [
       "<matplotlib.figure.Figure at 0x7f39bd2baac8>"
      ]
     },
     "metadata": {},
     "output_type": "display_data"
    }
   ],
   "source": [
    "plt.figure()\n",
    "t=range(1,100)\n",
    "plt.plot(t, np.sin(t))\n",
    "plt.xlabel(\"Time\")\n",
    "plt.ylabel(\"sin(1/4*pi*t)\")\n",
    "plt.title(\"Sinusoidal function\")\n",
    "plt.show()"
   ]
  },
  {
   "cell_type": "code",
   "execution_count": 161,
   "metadata": {},
   "outputs": [
    {
     "name": "stdout",
     "output_type": "stream",
     "text": [
      "0.999911860107\n",
      "-0.999990206551\n",
      "[1 4 5 8 9]\n",
      "[0 3 3 7 7]\n"
     ]
    }
   ],
   "source": [
    "print(np.max(np.sin(t)))\n",
    "print(np.min(np.sin(t)))\n",
    "\n",
    "## Elementwise minimum and maximum\n",
    "arr1 = np.array([1, 3, 5, 7, 9])\n",
    "arr2 = np.array([0, 4, 3, 8, 7])\n",
    "print(np.maximum(arr1, arr2))\n",
    "print(np.minimum(arr1, arr2))"
   ]
  },
  {
   "cell_type": "code",
   "execution_count": 162,
   "metadata": {
    "scrolled": true
   },
   "outputs": [
    {
     "name": "stdout",
     "output_type": "stream",
     "text": [
      "-0.0264810339597\n",
      "-0.0606446848393\n",
      "1.02560240072\n"
     ]
    }
   ],
   "source": [
    "# Statistical summaries \n",
    "\n",
    "print(np.mean(randn))\n",
    "print(np.median(randn))\n",
    "print(np.std(randn))\n",
    "\n"
   ]
  },
  {
   "cell_type": "markdown",
   "metadata": {},
   "source": [
    "Create a 5 (channels) x 100 (samples) matrix of random integers between 0 and 543 and retrieve the following information:\n",
    "    - the max, min, mean of all samples.\n",
    "    - the mean and variance of each channel\n"
   ]
  },
  {
   "cell_type": "code",
   "execution_count": 165,
   "metadata": {},
   "outputs": [
    {
     "name": "stdout",
     "output_type": "stream",
     "text": [
      "(5, 100)\n",
      "[[ 129.17840568  538.89442534  156.68815708  394.48997572  170.86257527\n",
      "   490.00479769  134.81849083  222.68143759  514.03590272  423.53239101\n",
      "    87.27972882  351.08817919  333.73099785  431.28192499  347.10519902\n",
      "   528.13317225  213.56897779  230.20876202  320.82604655  272.34809864\n",
      "   426.44063542  155.29664283  266.21685788  180.23514881   67.34055301\n",
      "   530.72368021   69.21959492   49.71519705   41.36368271  257.15815914\n",
      "    54.40957193   30.71971415  491.14871069  171.94105068   10.41851064\n",
      "   137.16642068  124.41847425  332.15164675  218.96004622  376.60629506\n",
      "   405.83943399   72.93769603  349.74792201  355.21140612  255.62750539\n",
      "     7.59816814  102.42286518  375.09393209  377.89789227   23.7412771\n",
      "   493.12415738  328.97513905  373.73536242   98.23933531  311.38197392\n",
      "   357.62987709  381.50390941  238.18632489  541.70305477   64.07602994\n",
      "   302.47906431   22.35690335  526.82612644  438.85179826   80.73348439\n",
      "   486.67058027  423.04250647   65.18210576   19.78982726  283.53857224\n",
      "    26.958805     37.62383691  262.89449895  266.15318245   70.24395626\n",
      "   509.65278242  406.06853799   34.66918159    0.56159618  104.52413999\n",
      "    56.12924416  420.7940062   159.46615652  110.30718984  354.89451501\n",
      "   495.66441788  538.34752896  539.61630803  335.58479718   84.62100418\n",
      "   161.9655831   320.20546549  297.29865181  360.66293366  480.92050955\n",
      "   364.3795124   462.87237538   26.62823046  269.58257865  405.04811568]\n",
      " [ 123.97313129  376.61030599  429.77721022  512.2162155   408.42719268\n",
      "   402.46853668  126.82934844  539.71035654   31.40005445  340.0044385\n",
      "   410.12713888  530.74555366  335.68206871  536.99614187  163.30535465\n",
      "   268.9552837   198.69059496  139.16529375  500.01320513  395.85485923\n",
      "   357.4898456   454.82273257   63.38111264  140.65066005  314.97129558\n",
      "   437.20428084  345.19292892  234.27448166  112.07041206  124.38909333\n",
      "   271.79613683   96.12990539  267.58287043  504.09097719  405.48797166\n",
      "   274.28309569   51.40086477  264.51469653  348.04326107  215.95448562\n",
      "   444.95223706  263.06563299  327.84722486  158.434421    252.38255121\n",
      "   445.47883325  147.81525078  428.88002572   16.44471644  541.9612261\n",
      "    30.28213709  405.76232685  207.25891184  356.03012288  490.7829506\n",
      "   214.37438428  472.32151005  283.48044583  179.84574567  150.31881955\n",
      "   497.79546546   52.11415182  244.69941599   80.34929918  464.8970969\n",
      "   269.03632398  426.95008646  258.20685856  294.55466945  478.36216441\n",
      "   356.8676994   501.1982847   473.06019579  449.19621225   55.25508095\n",
      "   383.17732134  356.05350539  266.57941884  339.74178432  283.91124432\n",
      "    38.18730993  370.22873567  287.96312204   62.14819016  122.41450159\n",
      "   194.02625246  417.34146941  221.46205212   42.19241488  146.87117306\n",
      "   350.93521921  327.03869999  142.33519666  470.65598166  416.72920127\n",
      "   374.83912672  194.15151525  116.94685625   83.37941804  503.77121424]\n",
      " [ 245.37595671  498.64787773  487.1845873   514.67245254  352.15379923\n",
      "   178.22766795   88.61924038  489.839152    176.86051236  121.51876845\n",
      "   119.50102506  381.61463191  161.802226     63.21775024  217.71744678\n",
      "   270.08210951  485.8624549    42.26839146  324.73145717  392.8101783\n",
      "   217.54063958   58.30395938   69.86617366  220.27859809   30.50728782\n",
      "   399.44391839   52.20263912  101.42493073  331.26914064  395.72065745\n",
      "   296.08989597  169.62312619  422.7752666   399.57469965  371.2875552\n",
      "   361.65992144  287.37132944  444.5451618   507.26970368  100.67554475\n",
      "    44.62180842  489.58923649  442.80541044  290.86366933  283.39996925\n",
      "   238.40638506  472.34338136  457.54955825    7.57348313  186.67859455\n",
      "   100.57593632  263.03973757  415.78418139  163.18886108  246.31529359\n",
      "   173.32721618  239.10789121  271.91209939  240.90084175  229.49575551\n",
      "   340.34786024  160.8835622    60.07503514  312.70587623  240.74798751\n",
      "   185.95734634  365.78862452  140.96630213  192.13220679  267.80931482\n",
      "   345.19840316  522.78419842  115.78677344   59.83423154  113.61171543\n",
      "   108.02533557   16.42958365  422.27552281   12.68995666  370.35262031\n",
      "    85.14715198  125.75577971  423.03871713  294.79252897   24.89601265\n",
      "   468.15273284    8.34202346  520.56394155  471.29737982  295.62413632\n",
      "   163.65209332  427.76500486  328.23021613  536.66402436  511.14168389\n",
      "   386.44705781  509.6922453   278.76312363   89.02248237  419.50132364]\n",
      " [ 353.89013748  153.66839691  481.78909213   78.88575801  484.70667638\n",
      "   119.63975005  102.81523508  227.33280053  262.19864095  535.65856165\n",
      "   287.468709    498.99443954  146.16228289   84.85562422  128.43745182\n",
      "   137.07647737  323.19286412  280.94080711  481.83116283  473.51119078\n",
      "   492.70268255  366.65565037  231.5376837    22.05058029  392.78494064\n",
      "   331.90233388  194.67676611  227.2025973   439.312407    185.38427209\n",
      "   200.35293414  528.42813587  115.42507693   59.1626859   296.05110064\n",
      "   243.33817846  374.83035076  410.47038486   46.86921173  510.35314505\n",
      "   103.1546285   103.78745391  294.87503042  397.25380255  317.42497857\n",
      "    52.5223887    63.82443359  185.04775553  345.86254077  538.97185846\n",
      "   131.50424074  436.56503135   94.20047694  155.72496257  273.28036972\n",
      "   427.12842812  460.97387282  109.14347983  351.00860929  356.50004108\n",
      "   185.43899125   36.71795272  214.62250876  257.79725616  125.58870018\n",
      "   490.21755104  468.84669651  190.5690722    86.71332924  271.41488714\n",
      "   481.33644484   53.33304375  247.53920543   30.84141848    9.07299563\n",
      "   243.90358615  112.07351913  209.92004959  458.05418219  533.78005064\n",
      "   341.76842406  469.56868574  318.04300076  140.20525551  271.67097073\n",
      "   337.35571651  103.19949953  298.1020512    10.89446329   24.49386329\n",
      "   256.26849968   27.05675866  491.57351058  442.37375094  278.79587743\n",
      "   179.55049754   94.7028133    34.72515144  505.34290597  434.93623946]\n",
      " [ 513.55744433  210.44778675  123.06044745  122.64188105  422.27759305\n",
      "   250.95933124    9.93321734  521.13658727   51.80764828  512.86298955\n",
      "   372.19129541   46.58202016  408.00239359   55.93535144  435.85723812\n",
      "   265.17537694  228.94793141  345.14726885  138.63289694  234.3314047\n",
      "   220.58764403   38.44043953  249.64923493   40.62870218  339.25937368\n",
      "   297.05809186  449.49434119  204.68370638  477.03251995  227.40962223\n",
      "    73.47188206  259.94415205  129.15421946  151.94875168  377.36073007\n",
      "   190.5756119   292.42182137  357.55050214   93.75313591  248.18633148\n",
      "   138.63251754   74.2035453   528.88102207  304.86513218  526.76915001\n",
      "   333.75041359  384.22959492  349.72901465  451.83511281   73.9222765\n",
      "    86.2791839   224.37823801  259.100759    439.08045183  150.60024043\n",
      "    46.51604083  374.85189231  207.30457696  397.89304161  107.07222792\n",
      "   118.39097978  142.69022543   49.35623925  447.35714653  205.32904757\n",
      "    81.32000526   60.39652034  206.21191024  438.43739864  336.06133503\n",
      "   347.00432382  310.81426669  496.89272355  299.53619461   34.59837354\n",
      "   195.30650967  174.61050741  160.89972801  143.81036135  383.3657451\n",
      "    90.81361734  174.44099044  249.66276731  346.39109775  320.80320937\n",
      "   212.19284559   66.38432397   71.08559419  413.03070566   18.45968009\n",
      "   282.16684056   40.58730476   59.67656763  150.64236303  447.59869663\n",
      "   503.708783    240.2951708     5.61736822  467.03147741  490.85946475]]\n"
     ]
    }
   ],
   "source": [
    "matrix_of_integers = np.random.uniform(low=0, high=543, size=(5,100) )\n",
    "print(matrix_of_integers.shape)\n",
    "print(matrix_of_integers)"
   ]
  },
  {
   "cell_type": "markdown",
   "metadata": {},
   "source": [
    "Use the function hist() from matplotlib to show the histogram of values of the third channel."
   ]
  },
  {
   "cell_type": "code",
   "execution_count": 169,
   "metadata": {},
   "outputs": [
    {
     "data": {
      "image/png": "[encoded data removed]",
      "text/plain": [
       "<matplotlib.figure.Figure at 0x7f39bd205be0>"
      ]
     },
     "metadata": {},
     "output_type": "display_data"
    }
   ],
   "source": [
    "plt.hist(matrix_of_integers[3,:])\n",
    "plt.show()"
   ]
  },
  {
   "cell_type": "code",
   "execution_count": null,
   "metadata": {
    "collapsed": true
   },
   "outputs": [],
   "source": []
  },
  {
   "cell_type": "code",
   "execution_count": null,
   "metadata": {
    "collapsed": true
   },
   "outputs": [],
   "source": []
  }
 ],
 "metadata": {
  "kernelspec": {
   "display_name": "Python 3",
   "language": "python",
   "name": "python3"
  },
  "language_info": {
   "codemirror_mode": {
    "name": "ipython",
    "version": 3
   },
   "file_extension": ".py",
   "mimetype": "text/x-python",
   "name": "python",
   "nbconvert_exporter": "python",
   "pygments_lexer": "ipython3",
   "version": "3.5.2"
  }
 },
 "nbformat": 4,
 "nbformat_minor": 2
}
