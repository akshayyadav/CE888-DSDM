{
 "cells": [
  {
   "cell_type": "code",
   "execution_count": 1,
   "metadata": {},
   "outputs": [
    {
     "name": "stderr",
     "output_type": "stream",
     "text": [
      "/Users/akshay/.local/lib/python3.6/site-packages/matplotlib/__init__.py:886: MatplotlibDeprecationWarning: \n",
      "examples.directory is deprecated; in the future, examples will be found relative to the 'datapath' directory.\n",
      "  \"found relative to the 'datapath' directory.\".format(key))\n"
     ]
    }
   ],
   "source": [
    "%matplotlib inline\n",
    "import matplotlib\n",
    "import numpy as np\n",
    "import matplotlib.pyplot as plt\n",
    "import pandas as pd\n",
    "import seaborn as sns\n",
    "from sklearn.metrics import confusion_matrix"
   ]
  },
  {
   "cell_type": "code",
   "execution_count": 48,
   "metadata": {},
   "outputs": [
    {
     "data": {
      "text/html": [
       "<div>\n",
       "<style scoped>\n",
       "    .dataframe tbody tr th:only-of-type {\n",
       "        vertical-align: middle;\n",
       "    }\n",
       "\n",
       "    .dataframe tbody tr th {\n",
       "        vertical-align: top;\n",
       "    }\n",
       "\n",
       "    .dataframe thead th {\n",
       "        text-align: right;\n",
       "    }\n",
       "</style>\n",
       "<table border=\"1\" class=\"dataframe\">\n",
       "  <thead>\n",
       "    <tr style=\"text-align: right;\">\n",
       "      <th></th>\n",
       "      <th>UCT</th>\n",
       "      <th>ExIt</th>\n",
       "    </tr>\n",
       "  </thead>\n",
       "  <tbody>\n",
       "    <tr>\n",
       "      <th>0</th>\n",
       "      <td>2</td>\n",
       "      <td>3</td>\n",
       "    </tr>\n",
       "    <tr>\n",
       "      <th>1</th>\n",
       "      <td>1</td>\n",
       "      <td>3</td>\n",
       "    </tr>\n",
       "    <tr>\n",
       "      <th>2</th>\n",
       "      <td>1</td>\n",
       "      <td>3</td>\n",
       "    </tr>\n",
       "    <tr>\n",
       "      <th>3</th>\n",
       "      <td>2</td>\n",
       "      <td>3</td>\n",
       "    </tr>\n",
       "    <tr>\n",
       "      <th>4</th>\n",
       "      <td>3</td>\n",
       "      <td>1</td>\n",
       "    </tr>\n",
       "  </tbody>\n",
       "</table>\n",
       "</div>"
      ],
      "text/plain": [
       "   UCT  ExIt\n",
       "0    2     3\n",
       "1    1     3\n",
       "2    1     3\n",
       "3    2     3\n",
       "4    3     1"
      ]
     },
     "execution_count": 48,
     "metadata": {},
     "output_type": "execute_result"
    }
   ],
   "source": [
    "df = pd.read_csv(\"../data/run_1.csv\", header=None, names=[\"UCT\", \"ExIt\"])\n",
    "df.head()"
   ]
  },
  {
   "cell_type": "code",
   "execution_count": 88,
   "metadata": {},
   "outputs": [
    {
     "name": "stdout",
     "output_type": "stream",
     "text": [
      "Overall accuracy: 20.51282051282051 %\n",
      "ExIt   1   2    3\n",
      "UCT              \n",
      "1      0   0  185\n",
      "2      0  53   41\n",
      "3     53   0   19\n"
     ]
    },
    {
     "data": {
      "image/png": "[encoded data removed]",
      "text/plain": [
       "<Figure size 720x720 with 2 Axes>"
      ]
     },
     "metadata": {
      "needs_background": "light"
     },
     "output_type": "display_data"
    }
   ],
   "source": [
    "labels=[1,2,3]\n",
    "figsize=(10,10)\n",
    "cfm = confusion_matrix(df.UCT, df.ExIt, labels=labels)\n",
    "acc = np.sum(cfm.diagonal()) / np.sum(cfm)\n",
    "print('Overall accuracy: {} %'.format(acc*100))\n",
    "sum_cfm = np.sum(cfm, axis=1, keepdims=True)\n",
    "percent_cfm = cfm / sum_cfm.astype(float) * 100\n",
    "annot = np.empty_like(cfm).astype(str)\n",
    "rows, cols = cfm.shape\n",
    "for row in range(rows):\n",
    "    for col in range(cols):\n",
    "        annot[row, col] = '%.1f%%\\n%d/%d' % (percent_cfm[row, col], cfm[row, col], sum_cfm[row])\n",
    "cfm = pd.DataFrame(cfm, index=labels, columns=labels)\n",
    "cfm.index.name = 'UCT'\n",
    "cfm.columns.name = 'ExIt'\n",
    "fig, ax = plt.subplots(figsize=figsize)\n",
    "plt.title(\"Confusion Matrix UCT vs ExIt\")\n",
    "sns.heatmap(cfm, annot=annot, fmt='', ax=ax)\n",
    "plt.savefig(\"../images/cfm_for_UCT_vs_ExIt\")\n",
    "print(cfm)"
   ]
  },
  {
   "cell_type": "code",
   "execution_count": null,
   "metadata": {},
   "outputs": [],
   "source": []
  }
 ],
 "metadata": {
  "kernelspec": {
   "display_name": "Python 3",
   "language": "python",
   "name": "python3"
  },
  "language_info": {
   "codemirror_mode": {
    "name": "ipython",
    "version": 3
   },
   "file_extension": ".py",
   "mimetype": "text/x-python",
   "name": "python",
   "nbconvert_exporter": "python",
   "pygments_lexer": "ipython3",
   "version": "3.6.7"
  }
 },
 "nbformat": 4,
 "nbformat_minor": 2
}
